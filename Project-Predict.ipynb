{
 "cells": [
  {
   "cell_type": "code",
   "execution_count": 4,
   "metadata": {},
   "outputs": [],
   "source": [
    "import numpy as np\n",
    "import glob\n",
    "from sklearn.model_selection import train_test_split\n",
    "from sklearn.preprocessing import StandardScaler\n",
    "from sklearn.model_selection import cross_val_score\n",
    "from sklearn import svm,linear_model\n",
    "from sklearn.ensemble import RandomForestRegressor\n",
    "from sklearn.metrics import r2_score\n",
    "from joblib import dump,load"
   ]
  },
  {
   "cell_type": "code",
   "execution_count": 5,
   "metadata": {},
   "outputs": [],
   "source": [
    "all_data = []\n",
    "cloud_mass_20um = []\n",
    "rain_mass_20um = []\n",
    "cloud_number_20um = []\n",
    "rain_number_20um = []\n",
    "praut_20um = []\n",
    "pracw_20um = []"
   ]
  },
  {
   "cell_type": "code",
   "execution_count": 6,
   "metadata": {},
   "outputs": [],
   "source": [
    "def read_data(filepath):\n",
    "    with open(filepath,'r') as f:\n",
    "        for a in f:\n",
    "            temp = a.strip('cloud_mass_20um')\n",
    "            temp = temp.strip('rain_mass_20um')\n",
    "            temp = temp.strip('cloud_number_20um')\n",
    "            temp = temp.strip('rain_number_20um')\n",
    "            temp = temp.strip('praut_20um')\n",
    "            temp = temp.strip('pracw_20um')\n",
    "            temp = temp.strip()\n",
    "            temp = temp.strip('[[')\n",
    "            temp = temp.strip(']]')\n",
    "            temp = temp.split()\n",
    "            for t in temp:\n",
    "                temp = np.array(t)\n",
    "                all_data.append(temp)\n",
    "        data = np.array(all_data).astype(float)\n",
    "        for i in range(len(data)):\n",
    "            if i <= 3599:\n",
    "                cloud_mass_20um.append(data[i])\n",
    "            elif i >= 3600 and i<= 7199:\n",
    "                rain_mass_20um.append(data[i])\n",
    "            elif i >= 7200 and i<= 10799:\n",
    "                cloud_number_20um.append(data[i])\n",
    "            elif i >= 10800 and i<= 14399:\n",
    "                rain_number_20um.append(data[i])\n",
    "            elif i >= 14400 and i<= 17999:\n",
    "                praut_20um.append(data[i])\n",
    "            elif i >= 18000:\n",
    "                pracw_20um.append(data[i])"
   ]
  },
  {
   "cell_type": "code",
   "execution_count": 7,
   "metadata": {},
   "outputs": [],
   "source": [
    "#load_data\n",
    "path = glob.glob('./*.txt')\n",
    "for i in path:\n",
    "    read_data(i)\n",
    "    all_data =[]"
   ]
  },
  {
   "cell_type": "code",
   "execution_count": 8,
   "metadata": {},
   "outputs": [
    {
     "data": {
      "text/plain": [
       "['.\\\\0.0005_1005000000_0.0.txt',\n",
       " '.\\\\0.0005_1005000000_2.0.txt',\n",
       " '.\\\\0.0005_1005000000_4.0.txt',\n",
       " '.\\\\0.0005_2005000000_0.0.txt',\n",
       " '.\\\\0.0005_2005000000_2.0.txt',\n",
       " '.\\\\0.0005_2005000000_4.0.txt',\n",
       " '.\\\\0.0005_3005000000_0.0.txt',\n",
       " '.\\\\0.0005_3005000000_2.0.txt',\n",
       " '.\\\\0.0005_3005000000_4.0.txt',\n",
       " '.\\\\0.0005_4005000000_0.0.txt',\n",
       " '.\\\\0.0005_4005000000_2.0.txt',\n",
       " '.\\\\0.0005_4005000000_4.0.txt',\n",
       " '.\\\\0.0005_5000000_0.0.txt',\n",
       " '.\\\\0.0005_5000000_2.0.txt',\n",
       " '.\\\\0.0005_5000000_4.0.txt',\n",
       " '.\\\\0.0055_1005000000_0.0.txt',\n",
       " '.\\\\0.0055_1005000000_2.0.txt',\n",
       " '.\\\\0.0055_1005000000_4.0.txt',\n",
       " '.\\\\0.0055_2005000000_0.0.txt',\n",
       " '.\\\\0.0055_2005000000_2.0.txt',\n",
       " '.\\\\0.0055_2005000000_4.0.txt',\n",
       " '.\\\\0.0055_3005000000_0.0.txt',\n",
       " '.\\\\0.0055_3005000000_2.0.txt',\n",
       " '.\\\\0.0055_3005000000_4.0.txt',\n",
       " '.\\\\0.0055_4005000000_0.0.txt',\n",
       " '.\\\\0.0055_4005000000_2.0.txt',\n",
       " '.\\\\0.0055_4005000000_4.0.txt',\n",
       " '.\\\\0.0055_5000000_0.0.txt',\n",
       " '.\\\\0.0055_5000000_2.0.txt',\n",
       " '.\\\\0.0055_5000000_4.0.txt']"
      ]
     },
     "execution_count": 8,
     "metadata": {},
     "output_type": "execute_result"
    }
   ],
   "source": [
    "path"
   ]
  },
  {
   "cell_type": "code",
   "execution_count": 9,
   "metadata": {},
   "outputs": [],
   "source": [
    "cloud_mass = np.array(cloud_mass_20um)\n",
    "rain_mass = np.array(rain_mass_20um)\n",
    "cloud_number = np.array(cloud_number_20um)\n",
    "rain_number = np.array(rain_number_20um)\n",
    "praut = np.array(praut_20um)\n",
    "pracw = np.array(pracw_20um) \n",
    "X_test = np.stack((cloud_mass,rain_mass,cloud_number,rain_number),axis=0).T\n",
    "y_test = np.stack((praut,pracw),axis=0).T"
   ]
  },
  {
   "cell_type": "code",
   "execution_count": 10,
   "metadata": {},
   "outputs": [
    {
     "data": {
      "text/plain": [
       "array([[4.91029234e-04, 8.96512665e-06, 5.88203456e+08, 9.72870600e+04],\n",
       "       [4.90998384e-04, 8.99594852e-06, 5.88183872e+08, 9.75868000e+04],\n",
       "       [4.90967534e-04, 9.02684860e-06, 5.88164224e+08, 9.78865550e+04],\n",
       "       ...,\n",
       "       [4.87458788e-14, 5.48077000e-03, 5.81756900e+02, 3.69301514e+02],\n",
       "       [4.87458788e-14, 5.48077000e-03, 5.81756900e+02, 3.69131348e+02],\n",
       "       [4.87458788e-14, 5.48077000e-03, 5.81756900e+02, 3.68961395e+02]])"
      ]
     },
     "execution_count": 10,
     "metadata": {},
     "output_type": "execute_result"
    }
   ],
   "source": [
    "X_test"
   ]
  },
  {
   "cell_type": "code",
   "execution_count": 11,
   "metadata": {},
   "outputs": [
    {
     "data": {
      "text/plain": [
       "array([[1.00490025e-08, 1.99702388e-08],\n",
       "       [1.00474500e-08, 2.00042596e-08],\n",
       "       [1.00458983e-08, 2.00393799e-08],\n",
       "       ...,\n",
       "       [2.91290077e-30, 0.00000000e+00],\n",
       "       [2.91291939e-30, 0.00000000e+00],\n",
       "       [2.91293801e-30, 0.00000000e+00]])"
      ]
     },
     "execution_count": 11,
     "metadata": {},
     "output_type": "execute_result"
    }
   ],
   "source": [
    "y_test"
   ]
  },
  {
   "cell_type": "code",
   "execution_count": 12,
   "metadata": {},
   "outputs": [],
   "source": [
    "#data preprocessing\n",
    "stdscale = StandardScaler()\n",
    "X_test = stdscale.fit_transform(X_test)\n",
    "y_test_lstm = stdscale.fit_transform(y_test)\n",
    "\n",
    "y_test_praut = y_test[:,0].reshape(-1,1)\n",
    "y_test_pracw = y_test[:,1].reshape(-1,1)\n",
    "\n",
    "y_test_praut = stdscale.fit_transform(y_test_praut)\n",
    "y_test_pracw = stdscale.fit_transform(y_test_pracw)"
   ]
  },
  {
   "cell_type": "code",
   "execution_count": null,
   "metadata": {},
   "outputs": [],
   "source": [
    "#predict model\n",
    "def predict_model_praut(model_name='RF', X_test=X_test, y_test=y_test_praut,):\n",
    "    if model_name == 'SVM':\n",
    "        clf = load('SVM_praut.joblib')   \n",
    "    elif model_name == 'RF':\n",
    "        clf = load('RF_praut.joblib')    \n",
    "    elif model_name == 'LR':\n",
    "        clf = load('LR_praut.joblib')    \n",
    "        \n",
    "    y_test_praut_1 = y_test_praut.ravel()\n",
    "    scores = cross_val_score(clf,X_test,y_test_praut_1,cv=3) \n",
    "    \n",
    "    predict_praut = clf.predict(X_test)\n",
    "    y_test_praut1 = stdscale.inverse_transform(y_test_praut_1.reshape(-1,1))\n",
    "    predict_praut = stdscale.inverse_transform(predict_praut)\n",
    "    r2 = r2_score(y_test_praut1,predict_praut)  \n",
    "    print('praut_r2: %f' %r2)\n",
    "    \n",
    "    return predict_praut,y_test_praut1"
   ]
  },
  {
   "cell_type": "code",
   "execution_count": null,
   "metadata": {},
   "outputs": [],
   "source": [
    "def predict_model_pracw(model_name='RF',X_test=X_test, y_test=y_test_pracw):\n",
    "    if model_name == 'SVM':\n",
    "        clf_1 = load('SVM_pracw.joblib')\n",
    "    elif model_name == 'RF':\n",
    "        clf_1 = load('RF_pracw.joblib')\n",
    "    elif model_name == 'LR':\n",
    "        clf_1 = load('LR_pracw.joblib')\n",
    "        \n",
    "    y_test_pracw_1 = y_test_pracw.ravel()\n",
    "    scores = cross_val_score(clf_1,X_test,y_test_pracw_1,cv=3)\n",
    "\n",
    "    predict_pracw = clf_1.predict(X_test)\n",
    "    y_test_pracw1 = stdscale.inverse_transform(y_test_pracw_1.reshape(-1,1))\n",
    "    predict_pracw = stdscale.inverse_transform(predict_pracw)\n",
    "    r2 = r2_score(y_test_pracw1,predict_pracw)\n",
    "    print('pracw_r2: %f' %r2)\n",
    "\n",
    "    return predict_pracw,y_test_pracw1"
   ]
  },
  {
   "cell_type": "code",
   "execution_count": null,
   "metadata": {},
   "outputs": [],
   "source": [
    "predict_praut,true_praut = predict_model_praut(model_name='LR') \n"
   ]
  },
  {
   "cell_type": "code",
   "execution_count": null,
   "metadata": {},
   "outputs": [],
   "source": [
    "predict_praut,true_praut = predict_model_praut(model_name='SVM') \n"
   ]
  },
  {
   "cell_type": "code",
   "execution_count": null,
   "metadata": {},
   "outputs": [],
   "source": [
    "predict_pracw,true_pracw = predict_model_pracw(model_name='LR')"
   ]
  },
  {
   "cell_type": "code",
   "execution_count": null,
   "metadata": {},
   "outputs": [],
   "source": [
    "predict_pracw,true_pracw = predict_model_pracw(model_name='SVM')"
   ]
  }
 ],
 "metadata": {
  "kernelspec": {
   "display_name": "Python 3",
   "language": "python",
   "name": "python3"
  },
  "language_info": {
   "codemirror_mode": {
    "name": "ipython",
    "version": 3
   },
   "file_extension": ".py",
   "mimetype": "text/x-python",
   "name": "python",
   "nbconvert_exporter": "python",
   "pygments_lexer": "ipython3",
   "version": "3.7.6"
  }
 },
 "nbformat": 4,
 "nbformat_minor": 4
}
